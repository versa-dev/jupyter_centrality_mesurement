{
 "cells": [
  {
   "cell_type": "code",
   "execution_count": 31,
   "metadata": {},
   "outputs": [
    {
     "data": {
      "text/plain": [
       "NodeView(((1, 2007), (2, 2007), (1, 2008), (3, 2008), (2, 2008), (4, 2008), (2, 2009), (3, 2009), (4, 2009), (3, 2010), (4, 2010), (4, 2017), (6, 2017), (5, 2017)))"
      ]
     },
     "execution_count": 31,
     "metadata": {},
     "output_type": "execute_result"
    }
   ],
   "source": [
    "import sys\n",
    "import networkx as nx\n",
    "import pandas as pd\n",
    "\n",
    "Data = pd.read_csv(\"1.csv\")\n",
    "chessID = list(Data[\"chessID\"])\n",
    "meetingID = list(Data[\"meetingID\"])\n",
    "year = list(Data[\"year\"])\n",
    "area = list(Data[\"area\"])\n",
    "index_range = len(area)\n",
    "mem_count = len(list(dict.fromkeys(chessID)))\n",
    "\n",
    "graph = []\n",
    "num = []\n",
    "for yy in range(2007, 2018):\n",
    "    G = nx.Graph()\n",
    "    for i in range(index_range):\n",
    "        if(year[i] == yy):\n",
    "            try:\n",
    "                index = meetingID[i+1:].index(meetingID[i])\n",
    "                G.add_edge((chessID[i],yy),(chessID[i+index+1],yy))\n",
    "            except ValueError:\n",
    "                pass\n",
    "    graph.append(G)\n",
    "    num.append(G.number_of_nodes())\n",
    "    \n",
    "total_graph = nx.Graph()\n",
    "for item in graph:\n",
    "    total_graph = nx.compose(total_graph, item)\n",
    "\n"
   ]
  }
 ],
 "metadata": {
  "kernelspec": {
   "display_name": "Python 3",
   "language": "python",
   "name": "python3"
  },
  "language_info": {
   "codemirror_mode": {
    "name": "ipython",
    "version": 3
   },
   "file_extension": ".py",
   "mimetype": "text/x-python",
   "name": "python",
   "nbconvert_exporter": "python",
   "pygments_lexer": "ipython3",
   "version": "3.8.2"
  }
 },
 "nbformat": 4,
 "nbformat_minor": 4
}
